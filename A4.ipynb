{
  "nbformat": 4,
  "nbformat_minor": 0,
  "metadata": {
    "colab": {
      "name": "A4.ipynb",
      "version": "0.3.2",
      "provenance": [],
      "collapsed_sections": [],
      "include_colab_link": true
    },
    "kernelspec": {
      "name": "python3",
      "display_name": "Python 3"
    }
  },
  "cells": [
    {
      "cell_type": "markdown",
      "metadata": {
        "id": "view-in-github",
        "colab_type": "text"
      },
      "source": [
        "<a href=\"https://colab.research.google.com/github/Ian-Morris/COMP6915-Machine-Learning/blob/Javad-mun-patch-1/A4.ipynb\" target=\"_parent\"><img src=\"https://colab.research.google.com/assets/colab-badge.svg\" alt=\"Open In Colab\"/></a>"
      ]
    },
    {
      "metadata": {
        "id": "x2-BXTMuUK42",
        "colab_type": "code",
        "colab": {}
      },
      "cell_type": "code",
      "source": [
        "import numpy as np\n",
        "import matplotlib.pyplot as plt\n",
        "import sklearn as sk\n",
        "import seaborn as sns\n",
        "from scipy.io import loadmat\n",
        "from skimage import color\n",
        "from skimage import io\n",
        "from sklearn.model_selection import train_test_split\n",
        "\n",
        "\n",
        "%matplotlib inline\n",
        "plt.rcParams['figure.figsize'] = (16.0, 4.0)"
      ],
      "execution_count": 0,
      "outputs": []
    },
    {
      "metadata": {
        "id": "ZlDOP96CTo2O",
        "colab_type": "code",
        "outputId": "0e08e379-20f5-4907-810b-19876a09ff44",
        "colab": {
          "base_uri": "https://localhost:8080/",
          "height": 124
        }
      },
      "cell_type": "code",
      "source": [
        "from google.colab import drive\n",
        "drive.mount('/content/gdrive')"
      ],
      "execution_count": 2,
      "outputs": [
        {
          "output_type": "stream",
          "text": [
            "Go to this URL in a browser: https://accounts.google.com/o/oauth2/auth?client_id=947318989803-6bn6qk8qdgf4n4g3pfee6491hc0brc4i.apps.googleusercontent.com&redirect_uri=urn%3Aietf%3Awg%3Aoauth%3A2.0%3Aoob&scope=email%20https%3A%2F%2Fwww.googleapis.com%2Fauth%2Fdocs.test%20https%3A%2F%2Fwww.googleapis.com%2Fauth%2Fdrive%20https%3A%2F%2Fwww.googleapis.com%2Fauth%2Fdrive.photos.readonly%20https%3A%2F%2Fwww.googleapis.com%2Fauth%2Fpeopleapi.readonly&response_type=code\n",
            "\n",
            "Enter your authorization code:\n",
            "··········\n",
            "Mounted at /content/gdrive\n"
          ],
          "name": "stdout"
        }
      ]
    },
    {
      "metadata": {
        "id": "D5AvuVfxUPyk",
        "colab_type": "text"
      },
      "cell_type": "markdown",
      "source": [
        "# New Section"
      ]
    },
    {
      "metadata": {
        "id": "0il85_YJUVE_",
        "colab_type": "text"
      },
      "cell_type": "markdown",
      "source": [
        "### work with google drive"
      ]
    },
    {
      "metadata": {
        "id": "mo2QdKkhW1Rm",
        "colab_type": "code",
        "colab": {}
      },
      "cell_type": "code",
      "source": [
        "!ls \"/content/gdrive/My Drive\"\n"
      ],
      "execution_count": 0,
      "outputs": []
    },
    {
      "metadata": {
        "id": "0sXqa2pgbZxn",
        "colab_type": "code",
        "outputId": "2416f3ae-ffa3-438f-c40f-7e33313787db",
        "colab": {
          "base_uri": "https://localhost:8080/",
          "height": 52
        }
      },
      "cell_type": "code",
      "source": [
        "\n",
        "def load_data(path):\n",
        "    \"\"\" Helper function for loading a MAT-File\"\"\"\n",
        "    data = loadmat(path)\n",
        "    return data['X'], data['y']\n",
        "X_train, y_train = load_data(\"/content/gdrive/My Drive/train_32x32.mat\")\n",
        "X_test, y_test = load_data(\"/content/gdrive/My Drive/test_32x32.mat\")\n",
        "\n",
        "print(\"Training Set\", X_train.shape, y_train.shape)\n",
        "print(\"Test Set\", X_test.shape, y_test.shape)"
      ],
      "execution_count": 20,
      "outputs": [
        {
          "output_type": "stream",
          "text": [
            "Training Set (32, 32, 3, 73257) (73257, 1)\n",
            "Test Set (32, 32, 3, 26032) (26032, 1)\n"
          ],
          "name": "stdout"
        }
      ]
    },
    {
      "metadata": {
        "id": "L574MBCdBsyo",
        "colab_type": "text"
      },
      "cell_type": "markdown",
      "source": [
        "**Transposing the the train and test data\n",
        "by converting it from  \n",
        "(width, height, channels, size) -> (size, width, height, channels)**"
      ]
    },
    {
      "metadata": {
        "id": "w80HIkwNbsG-",
        "colab_type": "code",
        "outputId": "342992f8-7843-4122-c677-9a6954b8ace8",
        "colab": {
          "base_uri": "https://localhost:8080/",
          "height": 87
        }
      },
      "cell_type": "code",
      "source": [
        "# Transpose the image arrays\n",
        "X_train, y_train = X_train.transpose((3,0,1,2)), y_train[:,0]\n",
        "X_test, y_test = X_test.transpose((3,0,1,2)), y_test[:,0]\n",
        "\n",
        "print(\"Training Set\", X_train.shape)\n",
        "print(\"Test Set\", X_test.shape)\n",
        "print('')\n",
        "\n",
        "# Calculate the total number of images\n",
        "num_images = X_train.shape[0] + X_test.shape[0]\n",
        "\n",
        "print(\"Total Number of Images\", num_images)"
      ],
      "execution_count": 21,
      "outputs": [
        {
          "output_type": "stream",
          "text": [
            "Training Set (73257, 32, 32, 3)\n",
            "Test Set (26032, 32, 32, 3)\n",
            "\n",
            "Total Number of Images 99289\n"
          ],
          "name": "stdout"
        }
      ]
    },
    {
      "metadata": {
        "id": "v6uqv0i8NfEI",
        "colab_type": "code",
        "colab": {}
      },
      "cell_type": "code",
      "source": [
        "# a function to show images . Note color and gray is different:\n",
        "\n",
        "def plot_images(img, labels, nrows, ncols):\n",
        "    \"\"\" Plot nrows x ncols images\n",
        "    \"\"\"\n",
        "    fig, axes = plt.subplots(nrows, ncols)\n",
        "    for i, ax in enumerate(axes.flat): \n",
        "        if img[i].shape == (32, 32, 3):\n",
        "            ax.imshow(img[i])\n",
        "        else:\n",
        "            ax.imshow(img[i,:,:,0])\n",
        "        ax.set_xticks([]); ax.set_yticks([])\n",
        "        ax.set_title(labels[i])"
      ],
      "execution_count": 0,
      "outputs": []
    },
    {
      "metadata": {
        "id": "M-akGD_AB3zx",
        "colab_type": "text"
      },
      "cell_type": "markdown",
      "source": [
        "If you want to see some of the images:"
      ]
    },
    {
      "metadata": {
        "id": "rziofjiWjowA",
        "colab_type": "code",
        "outputId": "eb6308f5-e0be-4e9a-b367-280b819a638b",
        "colab": {
          "base_uri": "https://localhost:8080/",
          "height": 284
        }
      },
      "cell_type": "code",
      "source": [
        "for i in range(133,134):\n",
        "  print(\"This image is:\",y_train[i])\n",
        "  plt.imshow(X_train[i])\n",
        "  plt.show()\n"
      ],
      "execution_count": 23,
      "outputs": [
        {
          "output_type": "stream",
          "text": [
            "This image is: 3\n"
          ],
          "name": "stdout"
        },
        {
          "output_type": "display_data",
          "data": {
            "image/png": "[encoded data removed]",
            "text/plain": [
              "<Figure size 1152x288 with 1 Axes>"
            ]
          },
          "metadata": {
            "tags": []
          }
        }
      ]
    },
    {
      "metadata": {
        "id": "qsz50by0qrHs",
        "colab_type": "code",
        "outputId": "94f74825-59c7-4fca-8a76-6e67a8a82b8d",
        "colab": {
          "base_uri": "https://localhost:8080/",
          "height": 623
        }
      },
      "cell_type": "code",
      "source": [
        "t_Object= X_train[3]\n",
        "print(t_Object.shape)\n",
        "plt.imshow(t_Object)\n",
        "plt.show()\n",
        "t_Object= np.expand_dims(np.dot(t_Object, [0.3333, 0.3333, 0.3333]), axis=3).astype(np.float32)\n",
        "t_Object = t_Object[:,:,0]\n",
        "print(t_Object.shape)\n",
        "plt.imshow(t_Object)\n",
        "  "
      ],
      "execution_count": 24,
      "outputs": [
        {
          "output_type": "stream",
          "text": [
            "(32, 32, 3)\n"
          ],
          "name": "stdout"
        },
        {
          "output_type": "display_data",
          "data": {
            "image/png": "[encoded data removed]",
            "text/plain": [
              "<Figure size 1152x288 with 1 Axes>"
            ]
          },
          "metadata": {
            "tags": []
          }
        },
        {
          "output_type": "stream",
          "text": [
            "(32, 32)\n"
          ],
          "name": "stdout"
        },
        {
          "output_type": "stream",
          "text": [
            "/usr/local/lib/python3.6/dist-packages/ipykernel_launcher.py:5: DeprecationWarning: Both axis > a.ndim and axis < -a.ndim - 1 are deprecated and will raise an AxisError in the future.\n",
            "  \"\"\"\n"
          ],
          "name": "stderr"
        },
        {
          "output_type": "execute_result",
          "data": {
            "text/plain": [
              "<matplotlib.image.AxesImage at 0x7fce33986080>"
            ]
          },
          "metadata": {
            "tags": []
          },
          "execution_count": 24
        },
        {
          "output_type": "display_data",
          "data": {
            "image/png": "[encoded data removed]",
            "text/plain": [
              "<Figure size 1152x288 with 1 Axes>"
            ]
          },
          "metadata": {
            "tags": []
          }
        }
      ]
    },
    {
      "metadata": {
        "id": "C77dauBq_X0X",
        "colab_type": "text"
      },
      "cell_type": "markdown",
      "source": [
        "\n",
        "## Splitting the Training to Train+Validation\n",
        "Splitting to 13% in Val Set as it gives around 9500 data\n",
        "having min. of 800 instances of each class\n",
        "\n",
        "Using random state to regenrate the whole Dataset in re-run\n"
      ]
    },
    {
      "metadata": {
        "id": "FFkQ8c9u_U0_",
        "colab_type": "code",
        "colab": {}
      },
      "cell_type": "code",
      "source": [
        "X_train, X_val, y_train, y_val = train_test_split(X_train, y_train, test_size=0.13, random_state=7)\n"
      ],
      "execution_count": 0,
      "outputs": []
    },
    {
      "metadata": {
        "id": "O5vPlQ2IL4TJ",
        "colab_type": "text"
      },
      "cell_type": "markdown",
      "source": [
        "##  Grayscale Conversion\n",
        "**To speed up our experiments we will convert our images from RGB to Grayscale, which grately reduces the amount of data we will have to process.**"
      ]
    },
    {
      "metadata": {
        "id": "CilI9OoJL3kO",
        "colab_type": "code",
        "outputId": "7e52e4db-0f49-4c00-fa49-0f05a67d3b59",
        "colab": {
          "base_uri": "https://localhost:8080/",
          "height": 69
        }
      },
      "cell_type": "code",
      "source": [
        "\n",
        "def rgb2gray(images):\n",
        "    return np.expand_dims(np.dot(images, [1, 1, 1]), axis=3)\n",
        "train_greyscale = rgb2gray(X_train).astype(np.float32)\n",
        "test_greyscale = rgb2gray(X_test).astype(np.float32)\n",
        "print(\"Training Set\", train_greyscale.shape)\n",
        "print(\"Test Set\", test_greyscale.shape)\n",
        "print('')"
      ],
      "execution_count": 26,
      "outputs": [
        {
          "output_type": "stream",
          "text": [
            "Training Set (63733, 32, 32, 1)\n",
            "Test Set (26032, 32, 32, 1)\n",
            "\n"
          ],
          "name": "stdout"
        }
      ]
    },
    {
      "metadata": {
        "id": "kySfvgirMRyq",
        "colab_type": "code",
        "outputId": "a7b98394-f3ec-4201-d546-4fe63d25c93d",
        "colab": {
          "base_uri": "https://localhost:8080/",
          "height": 123
        }
      },
      "cell_type": "code",
      "source": [
        "plot_images(train_greyscale, y_train, 1, 10)\n"
      ],
      "execution_count": 27,
      "outputs": [
        {
          "output_type": "display_data",
          "data": {
            "image/png": "[encoded data removed]",
            "text/plain": [
              "<Figure size 1152x288 with 10 Axes>"
            ]
          },
          "metadata": {
            "tags": []
          }
        }
      ]
    },
    {
      "metadata": {
        "id": "JzdHY9yvOkqp",
        "colab_type": "code",
        "colab": {}
      },
      "cell_type": "code",
      "source": [
        "# scale the data:\n",
        "\n",
        "train_greyscale_norm = train_greyscale/255\n",
        "test_greyscale_norm = test_greyscale/255\n"
      ],
      "execution_count": 0,
      "outputs": []
    },
    {
      "metadata": {
        "id": "_vVNRNivTabg",
        "colab_type": "code",
        "outputId": "9dac8dc9-6775-48bc-c41b-07d9d849b803",
        "colab": {
          "base_uri": "https://localhost:8080/",
          "height": 123
        }
      },
      "cell_type": "code",
      "source": [
        "# check the images \n",
        "plot_images(train_greyscale_norm, y_train, 1, 10)\n"
      ],
      "execution_count": 29,
      "outputs": [
        {
          "output_type": "display_data",
          "data": {
            "image/png": "[encoded data removed]",
            "text/plain": [
              "<Figure size 1152x288 with 10 Axes>"
            ]
          },
          "metadata": {
            "tags": []
          }
        }
      ]
    },
    {
      "metadata": {
        "id": "U4gHFE8BaRDP",
        "colab_type": "text"
      },
      "cell_type": "markdown",
      "source": [
        "## One Hot Label Encoding\n",
        "From the book, using keras"
      ]
    },
    {
      "metadata": {
        "id": "fYdjfFIAhm66",
        "colab_type": "code",
        "colab": {
          "base_uri": "https://localhost:8080/",
          "height": 35
        },
        "outputId": "e80d4bf3-971e-43ee-eaf9-c5cc9af24e04"
      },
      "cell_type": "code",
      "source": [
        "y_train.min()"
      ],
      "execution_count": 34,
      "outputs": [
        {
          "output_type": "execute_result",
          "data": {
            "text/plain": [
              "1"
            ]
          },
          "metadata": {
            "tags": []
          },
          "execution_count": 34
        }
      ]
    },
    {
      "metadata": {
        "id": "k7X8c0HblwkR",
        "colab_type": "code",
        "colab": {}
      },
      "cell_type": "code",
      "source": [
        "\n",
        "#one hot encode outputs\n",
        "from keras.utils import np_utils\n",
        "y_train = np_utils.to_categorical(y_train)\n",
        "y_test = np_utils.to_categorical(y_test)\n",
        "y_val = np_utils.to_categorical(y_val)\n",
        "num_classes = y_test.shape[1]"
      ],
      "execution_count": 0,
      "outputs": []
    },
    {
      "metadata": {
        "id": "AYsqr6zphlVM",
        "colab_type": "code",
        "outputId": "4ba8c3d4-7767-4d47-8eff-41a2ee06ad13",
        "colab": {
          "base_uri": "https://localhost:8080/",
          "height": 139
        }
      },
      "cell_type": "code",
      "source": [
        "y_train"
      ],
      "execution_count": 39,
      "outputs": [
        {
          "output_type": "execute_result",
          "data": {
            "text/plain": [
              "array([[0., 1., 0., ..., 0., 0., 0.],\n",
              "       [0., 1., 0., ..., 0., 0., 0.],\n",
              "       [0., 1., 0., ..., 0., 0., 0.],\n",
              "       ...,\n",
              "       [0., 0., 0., ..., 0., 0., 0.],\n",
              "       [0., 1., 0., ..., 0., 0., 0.],\n",
              "       [0., 0., 1., ..., 0., 0., 0.]], dtype=float32)"
            ]
          },
          "metadata": {
            "tags": []
          },
          "execution_count": 39
        }
      ]
    },
    {
      "metadata": {
        "id": "_mjzyLzNiDuZ",
        "colab_type": "code",
        "outputId": "89a951e5-5cb7-4714-a388-069b4608f92c",
        "colab": {
          "base_uri": "https://localhost:8080/",
          "height": 69
        }
      },
      "cell_type": "code",
      "source": [
        "\n",
        "print('Training set', X_train.shape, y_train.shape)\n",
        "print('Validation set', X_val.shape, y_val.shape)\n",
        "print('Test set', X_test.shape, y_test.shape)"
      ],
      "execution_count": 40,
      "outputs": [
        {
          "output_type": "stream",
          "text": [
            "Training set (63733, 32, 32, 3) (63733, 11)\n",
            "Validation set (9524, 32, 32, 3) (9524, 11)\n",
            "Test set (26032, 32, 32, 3) (26032, 11)\n"
          ],
          "name": "stdout"
        }
      ]
    },
    {
      "metadata": {
        "id": "BwAj8gRtzm5b",
        "colab_type": "code",
        "colab": {
          "base_uri": "https://localhost:8080/",
          "height": 35
        },
        "outputId": "d55b70f1-30fd-4a8b-9f63-5e7d6a0af827"
      },
      "cell_type": "code",
      "source": [
        "train_greyscale_norm.shape\n"
      ],
      "execution_count": 45,
      "outputs": [
        {
          "output_type": "execute_result",
          "data": {
            "text/plain": [
              "(63733, 32, 32, 1)"
            ]
          },
          "metadata": {
            "tags": []
          },
          "execution_count": 45
        }
      ]
    },
    {
      "metadata": {
        "id": "XEQHY5-znBnb",
        "colab_type": "code",
        "colab": {}
      },
      "cell_type": "code",
      "source": [
        "training_samples, height, width, _ = train_greyscale_norm.shape\n",
        "testing_samples,_,_,_  = X_test.shape\n"
      ],
      "execution_count": 0,
      "outputs": []
    },
    {
      "metadata": {
        "id": "2PzunLvv1lUL",
        "colab_type": "code",
        "colab": {}
      },
      "cell_type": "code",
      "source": [
        "#Importing the necessary packages\n",
        "import numpy as np\n",
        "import matplotlib.pyplot as plt\n",
        "from keras.datasets import mnist\n",
        "from keras.models import Sequential\n",
        "from keras.layers import Dense, Dropout, Flatten\n",
        "#Importing the CNN related layers as described in Chapter 2\n",
        "from keras.layers.convolutional import Conv2D, MaxPooling2D\n",
        "from keras.utils import np_utils"
      ],
      "execution_count": 0,
      "outputs": []
    },
    {
      "metadata": {
        "id": "OmS3Fyi13ZU6",
        "colab_type": "text"
      },
      "cell_type": "markdown",
      "source": [
        "***The model:***"
      ]
    },
    {
      "metadata": {
        "id": "sxlH214N6Gsx",
        "colab_type": "code",
        "colab": {}
      },
      "cell_type": "code",
      "source": [
        "model = Sequential()\n",
        "model.add(Conv2D(64, (5, 5), input_shape=(height,width ,1), activation='relu'))\n",
        "model.add(MaxPooling2D(pool_size=(2, 2)))\n",
        "model.add(Conv2D(64, (3, 3), activation='relu'))\n",
        "model.add(MaxPooling2D(pool_size=(2, 2)))"
      ],
      "execution_count": 0,
      "outputs": []
    },
    {
      "metadata": {
        "id": "q49pTta41eVc",
        "colab_type": "code",
        "colab": {}
      },
      "cell_type": "code",
      "source": [
        "n_classes = 11 # maybe I need to put it 11\n",
        "model.add(Dropout(0.25))\n",
        "model.add(Flatten())\n",
        "model.add(Dense(128, activation='relu'))\n",
        "model.add(Dense(n_classes, activation='softmax'))\n",
        "# Compile model\n",
        "model.compile(loss='categorical_crossentropy', optimizer='adam', metrics=['accuracy'])"
      ],
      "execution_count": 0,
      "outputs": []
    },
    {
      "metadata": {
        "id": "g6jKOc8g3dki",
        "colab_type": "text"
      },
      "cell_type": "markdown",
      "source": [
        "**Fit the model**"
      ]
    },
    {
      "metadata": {
        "id": "ezwluamZ3EWe",
        "colab_type": "code",
        "colab": {
          "base_uri": "https://localhost:8080/",
          "height": 419
        },
        "outputId": "67780486-2f55-4254-afb0-eaa99e9b554d"
      },
      "cell_type": "code",
      "source": [
        "model.fit(train_greyscale_norm, y_train, validation_data=(test_greyscale_norm, y_test),\n",
        "epochs=10, batch_size=200)"
      ],
      "execution_count": 0,
      "outputs": [
        {
          "output_type": "stream",
          "text": [
            "WARNING:tensorflow:From /usr/local/lib/python3.6/dist-packages/tensorflow/python/ops/math_ops.py:3066: to_int32 (from tensorflow.python.ops.math_ops) is deprecated and will be removed in a future version.\n",
            "Instructions for updating:\n",
            "Use tf.cast instead.\n",
            "Train on 63733 samples, validate on 26032 samples\n",
            "Epoch 1/10\n",
            "63733/63733 [==============================] - 172s 3ms/step - loss: 1.0473 - acc: 0.6754 - val_loss: 0.6001 - val_acc: 0.8380\n",
            "Epoch 2/10\n",
            "63733/63733 [==============================] - 169s 3ms/step - loss: 0.5443 - acc: 0.8465 - val_loss: 0.5338 - val_acc: 0.8572\n",
            "Epoch 3/10\n",
            "63733/63733 [==============================] - 172s 3ms/step - loss: 0.4594 - acc: 0.8689 - val_loss: 0.4578 - val_acc: 0.8734\n",
            "Epoch 4/10\n",
            "63733/63733 [==============================] - 172s 3ms/step - loss: 0.4053 - acc: 0.8837 - val_loss: 0.4301 - val_acc: 0.8781\n",
            "Epoch 5/10\n",
            "63733/63733 [==============================] - 171s 3ms/step - loss: 0.3664 - acc: 0.8930 - val_loss: 0.4199 - val_acc: 0.8803\n",
            "Epoch 6/10\n",
            "63733/63733 [==============================] - 169s 3ms/step - loss: 0.3358 - acc: 0.9014 - val_loss: 0.3941 - val_acc: 0.8900\n",
            "Epoch 7/10\n",
            "63733/63733 [==============================] - 171s 3ms/step - loss: 0.3102 - acc: 0.9085 - val_loss: 0.3800 - val_acc: 0.8936\n",
            "Epoch 8/10\n",
            "63733/63733 [==============================] - 170s 3ms/step - loss: 0.2874 - acc: 0.9143 - val_loss: 0.3681 - val_acc: 0.8982\n",
            "Epoch 9/10\n",
            "63600/63733 [============================>.] - ETA: 0s - loss: 0.2737 - acc: 0.9187"
          ],
          "name": "stdout"
        }
      ]
    },
    {
      "metadata": {
        "id": "dqLwevZw4EJ8",
        "colab_type": "code",
        "colab": {}
      },
      "cell_type": "code",
      "source": [
        ""
      ],
      "execution_count": 0,
      "outputs": []
    }
  ]
}