{
  "nbformat": 4,
  "nbformat_minor": 0,
  "metadata": {
    "colab": {
      "name": "A4 - Final Version.ipynb",
      "version": "0.3.2",
      "provenance": [],
      "collapsed_sections": []
    },
    "kernelspec": {
      "name": "python3",
      "display_name": "Python 3"
    }
  },
  "cells": [
    {
      "metadata": {
        "id": "LnqyKGOWf2CI",
        "colab_type": "text"
      },
      "cell_type": "markdown",
      "source": [
        "# Assignment 4\n",
        "### Import Libraries\n"
      ]
    },
    {
      "metadata": {
        "id": "fEqiGlS2fsKT",
        "colab_type": "code",
        "colab": {}
      },
      "cell_type": "code",
      "source": [
        "\n",
        "import numpy as np\n",
        "import matplotlib.pyplot as plt\n",
        "import sklearn as sk\n",
        "import seaborn as sns\n",
        "import tensorflow as tf\n",
        "\n",
        "from scipy.io import loadmat\n",
        "\n",
        "from skimage import color\n",
        "from skimage import io\n",
        "from sklearn.model_selection import train_test_split\n",
        "\n",
        "from keras.datasets import mnist\n",
        "from keras.models import Sequential\n",
        "from keras.layers import Dense, Dropout, Flatten\n",
        "\n",
        "#Importing the CNN related layers \n",
        "from keras.layers.convolutional import Conv2D, MaxPooling2D\n",
        "from keras.utils import np_utils\n",
        "from keras.regularizers import l1\n",
        "from keras.regularizers import l2\n"
      ],
      "execution_count": 0,
      "outputs": []
    },
    {
      "metadata": {
        "id": "mzsJU8tVgBq9",
        "colab_type": "text"
      },
      "cell_type": "markdown",
      "source": [
        "### User-defined functions"
      ]
    },
    {
      "metadata": {
        "id": "CbButA_NgBCV",
        "colab_type": "code",
        "colab": {}
      },
      "cell_type": "code",
      "source": [
        "def load_data(path):\n",
        "    \"\"\" Helper function for loading a MAT-File\"\"\"\n",
        "    data = loadmat(path)\n",
        "    return data['X'], data['y']\n",
        "\n",
        "\n",
        "\n",
        "def plot_images(img, labels, nrows, ncols):\n",
        "    \"\"\" a helper function to display images . \n",
        "    Note that color and gray picture need different codes:\n",
        "    \"\"\"\n",
        "    fig, axes = plt.subplots(nrows, ncols)\n",
        "    for i, ax in enumerate(axes.flat): \n",
        "        if img[i].shape == (32, 32, 3):\n",
        "          # for color\n",
        "            ax.imshow(img[i]) \n",
        "        else:\n",
        "          #for grayscale\n",
        "            ax.imshow(img[i,:,:,0])\n",
        "        ax.set_xticks([]); ax.set_yticks([])\n",
        "        ax.set_title(labels[i])\n",
        "        \n",
        "        \n",
        "        \n",
        "def plot_prediction_image(i, predictions_array, true_label, img):\n",
        "    \"\"\"  plot predicton and the true label for images\"\"\"\n",
        "    predictions_array, true_label, img = predictions_array[i], true_label[i], img[i]\n",
        "    plt.grid(False)\n",
        "    plt.xticks([])\n",
        "    plt.yticks([])  \n",
        "    plt.imshow(img[:,:,0], cmap=plt.cm.binary)\n",
        "    predicted_label = np.argmax(predictions_array)\n",
        "      \n",
        "    # Color correct predictions in blue, incorrect predictions in red\n",
        "    if predicted_label == true_label:\n",
        "        color = 'blue'\n",
        "    else:\n",
        "        color = 'red'\n",
        "      \n",
        "    plt.xlabel(\"predicted:{} with {:2.0f}% (real:{})\".format(predicted_label,\n",
        "    100*np.max(predictions_array),true_label),color=color)\n",
        "\n",
        "\n",
        "\n",
        "def plot_graph(history):\n",
        "    \"\"\" Plotting the accuracy and loss for different epochs\"\"\"\n",
        "    plt.plot(history.history['acc'])\n",
        "    plt.plot(history.history['val_acc'])\n",
        "    plt.title( 'model accuracy')\n",
        "    plt.ylabel( 'accuracy' )\n",
        "    plt.xlabel( 'epoch' )\n",
        "    plt.legend([ 'train' , 'test' ], loc= 'upper left' )\n",
        "    plt.show()\n",
        "    # summarize history for loss\n",
        "    plt.plot(history.history[ 'loss' ])\n",
        "    plt.plot(history.history[ 'val_loss' ])\n",
        "    plt.title( 'model loss')\n",
        "    plt.ylabel( 'loss' )\n",
        "    plt.xlabel( 'epoch' )\n",
        "    plt.legend([ 'train' , 'test' ], loc= 'upper left' )\n",
        "    plt.show()\n"
      ],
      "execution_count": 0,
      "outputs": []
    },
    {
      "metadata": {
        "id": "x54SlC_Pgb48",
        "colab_type": "text"
      },
      "cell_type": "markdown",
      "source": [
        "### Preparing the environment and random seed"
      ]
    },
    {
      "metadata": {
        "id": "xFZk7rNkgZCF",
        "colab_type": "code",
        "colab": {}
      },
      "cell_type": "code",
      "source": [
        "%matplotlib inline\n",
        "\"\"\" increase the defualt size of the images\"\"\"\n",
        "plt.rcParams['figure.figsize'] = (20.0, 5.0)\n",
        "\n",
        "\"\"\" fix a random seed for reproducibility\"\"\"\n",
        "seed = 0\n",
        "np.random.seed(seed)\n"
      ],
      "execution_count": 0,
      "outputs": []
    },
    {
      "metadata": {
        "id": "CnfEevc5gAdY",
        "colab_type": "text"
      },
      "cell_type": "markdown",
      "source": [
        "### importing the data"
      ]
    },
    {
      "metadata": {
        "id": "ct04z-FcguTi",
        "colab_type": "code",
        "colab": {}
      },
      "cell_type": "code",
      "source": [
        "# make sure the .mat files are in the same folder as the .py file\n",
        "X_train, y_train = load_data(\"train_32x32.mat\")\n",
        "X_test, y_test = load_data(\"test_32x32.mat\")\n"
      ],
      "execution_count": 0,
      "outputs": []
    },
    {
      "metadata": {
        "id": "alF20ErfhGKU",
        "colab_type": "text"
      },
      "cell_type": "markdown",
      "source": [
        "### Getting the data ready\n",
        "Change the data shape   \n",
        "Transposing the the train and test data by converting it from\n",
        "  (width, height, channels, size) -> (size, width, height, channels)"
      ]
    },
    {
      "metadata": {
        "id": "zkIAXBNNhNaS",
        "colab_type": "code",
        "colab": {}
      },
      "cell_type": "code",
      "source": [
        "\n",
        "# check data shape\n",
        "print(\"Training Set\", X_train.shape, y_train.shape)\n",
        "print(\"Test Set\", X_test.shape, y_test.shape)\n",
        "\n",
        "\"\"\"**Transposing the the train and test data by converting it from\n",
        "  (width, height, channels, size) -> (size, width, height, channels)**\n",
        "\"\"\"\n",
        "\n",
        "# Only transpose the image arrays if the channel is not the last column\n",
        "if (X_train.shape[3] != 3):\n",
        "  X_train, y_train = X_train.transpose((3,0,1,2)), y_train[:,0]\n",
        "  X_test, y_test = X_test.transpose((3,0,1,2)), y_test[:,0]\n",
        "\n",
        "# check new data shape\n",
        "print(\"Training Set\", X_train.shape)\n",
        "print(\"Test Set\", X_test.shape)\n",
        "\n",
        "# Calculate the total number of images\n",
        "num_images = X_train.shape[0] + X_test.shape[0]\n",
        "\n",
        "print(\"Total Number of Images\", num_images)\n"
      ],
      "execution_count": 0,
      "outputs": []
    },
    {
      "metadata": {
        "id": "6Ts9C1AihaDu",
        "colab_type": "text"
      },
      "cell_type": "markdown",
      "source": [
        "### Plot some of the images:"
      ]
    },
    {
      "metadata": {
        "id": "8lZoWXx0hjkz",
        "colab_type": "code",
        "colab": {}
      },
      "cell_type": "code",
      "source": [
        "print(\"y_train is\",y_train)\n",
        "plot_images(X_train, y_train,2,10)\n",
        "\n",
        "# Make grayscale\n",
        "# if channel is 3, then it is RGB. convert it to grayscale\n",
        "if X_train.shape[3] == 3:\n",
        "  X_train= np.dot(X_train,[0.30,0.59,.11])\n",
        "  X_train = np.expand_dims(X_train,axis=3).astype('float32')\n",
        "  X_train.shape\n",
        "  \n",
        "if X_test.shape[3] == 3:\n",
        "  X_test= np.dot(X_test,[0.30,0.59,.11])\n",
        "  X_test = np.expand_dims(X_test,axis=3).astype('float32')\n",
        "  X_test.shape\n",
        "\n",
        "\"\"\"### print some of the test data\"\"\"\n",
        "\n",
        "plot_images(X_test, y_test, 1, 10)"
      ],
      "execution_count": 0,
      "outputs": []
    },
    {
      "metadata": {
        "id": "JcOpzO4chstK",
        "colab_type": "text"
      },
      "cell_type": "markdown",
      "source": [
        "### Normalize and categoricalize the data"
      ]
    },
    {
      "metadata": {
        "id": "DCPjzh3qhwp8",
        "colab_type": "code",
        "colab": {}
      },
      "cell_type": "code",
      "source": [
        "\"\"\"### Normalize the data\"\"\"\n",
        "\n",
        "# scale the data:\n",
        "\n",
        "X_train_norm = X_train/255\n",
        "X_test_norm = X_test/255\n",
        "\n",
        "\"\"\"\n",
        "Use Keras to make the label categorical\n",
        "\"\"\"\n",
        "y_train[y_train==10] = 0\n",
        "y_test[y_test==10] = 0\n",
        "y_train_cat = np_utils.to_categorical(y_train)\n",
        "y_test_cat = np_utils.to_categorical(y_test)\n",
        "num_classes = y_train_cat.shape[1]\n",
        "print(\"the number of categorical classess is:\",num_classes)\n"
      ],
      "execution_count": 0,
      "outputs": []
    },
    {
      "metadata": {
        "id": "Kp8pvr81h_Nz",
        "colab_type": "text"
      },
      "cell_type": "markdown",
      "source": [
        "### Getting the number, height and width of the images:"
      ]
    },
    {
      "metadata": {
        "id": "l1qRzdFxiDHC",
        "colab_type": "code",
        "colab": {}
      },
      "cell_type": "code",
      "source": [
        "\n",
        "\"\"\"Prepare the data to be used in the model\"\"\"\n",
        "\n",
        "training_samples, height, width, channel = X_train_norm.shape\n",
        "testing_samples,_,_,_  = X_test_norm.shape"
      ],
      "execution_count": 0,
      "outputs": []
    },
    {
      "metadata": {
        "id": "-_OjiJuciGqN",
        "colab_type": "text"
      },
      "cell_type": "markdown",
      "source": [
        "### Define the model"
      ]
    },
    {
      "metadata": {
        "id": "K0uMH8nXiJhX",
        "colab_type": "code",
        "colab": {}
      },
      "cell_type": "code",
      "source": [
        "\n",
        "\"\"\"### The model:\"\"\"\n",
        "\n",
        "model = Sequential()\n",
        "\n",
        "model.add(Conv2D(32, (3, 3), input_shape=(height,width ,channel), activation='relu'))\n",
        "model.add(Conv2D(64, (5,5), activation='relu'))\n",
        "model.add(MaxPooling2D(pool_size=(2, 2)))\n",
        "model.add(Conv2D(128, (3, 3), activation='relu'))\n",
        "model.add(MaxPooling2D(pool_size=(2, 2)))\n",
        "\n",
        "model.add(Dropout(0.20))\n",
        "model.add(Flatten())\n",
        "model.add(Dense(128, activation='relu', activity_regularizer=l2(0.0025)))\n",
        "model.add(Dense(num_classes, activation='softmax'))\n"
      ],
      "execution_count": 0,
      "outputs": []
    },
    {
      "metadata": {
        "id": "VhZvK_QNiNNR",
        "colab_type": "text"
      },
      "cell_type": "markdown",
      "source": [
        "### Compile the model"
      ]
    },
    {
      "metadata": {
        "id": "PNE2KIvFiTO8",
        "colab_type": "code",
        "colab": {}
      },
      "cell_type": "code",
      "source": [
        "model.compile(loss='categorical_crossentropy', optimizer='adam', metrics=['accuracy'])"
      ],
      "execution_count": 0,
      "outputs": []
    },
    {
      "metadata": {
        "id": "82fNrRHCiX0A",
        "colab_type": "text"
      },
      "cell_type": "markdown",
      "source": [
        "### Fit the model   \n",
        "Store the results in history for further use"
      ]
    },
    {
      "metadata": {
        "id": "fPtU3uDUibJK",
        "colab_type": "code",
        "colab": {}
      },
      "cell_type": "code",
      "source": [
        "history = model.fit(X_train_norm, y_train_cat, validation_data=(X_test_norm, y_test_cat),epochs=10, batch_size=100)"
      ],
      "execution_count": 0,
      "outputs": []
    },
    {
      "metadata": {
        "id": "RyIl2lqLioGw",
        "colab_type": "text"
      },
      "cell_type": "markdown",
      "source": [
        "### Show a summary of the model"
      ]
    },
    {
      "metadata": {
        "id": "QPSL_I0kirdW",
        "colab_type": "code",
        "colab": {}
      },
      "cell_type": "code",
      "source": [
        "model.summary()"
      ],
      "execution_count": 0,
      "outputs": []
    },
    {
      "metadata": {
        "id": "BKLYfa4yi5Tk",
        "colab_type": "text"
      },
      "cell_type": "markdown",
      "source": [
        "### Calculate the scores and loss function for test data"
      ]
    },
    {
      "metadata": {
        "id": "ZGKQujg-i68x",
        "colab_type": "code",
        "colab": {}
      },
      "cell_type": "code",
      "source": [
        "score = model.evaluate(X_test_norm, y_test_cat, verbose=0)\n",
        "print('Test loss:', score[0])\n",
        "print('Test accuracy:', score[1])"
      ],
      "execution_count": 0,
      "outputs": []
    },
    {
      "metadata": {
        "id": "r9NRZOLSi_dI",
        "colab_type": "text"
      },
      "cell_type": "markdown",
      "source": [
        "### Make predictions"
      ]
    },
    {
      "metadata": {
        "id": "mVZ4LRzXjG1M",
        "colab_type": "code",
        "colab": {}
      },
      "cell_type": "code",
      "source": [
        "predictions = model.predict(X_test_norm)"
      ],
      "execution_count": 0,
      "outputs": []
    },
    {
      "metadata": {
        "id": "OvmeAZ9-jKzy",
        "colab_type": "text"
      },
      "cell_type": "markdown",
      "source": [
        "### Plotting the prediction vs true labels for some of the test images:"
      ]
    },
    {
      "metadata": {
        "id": "ZlrQovE4jZrf",
        "colab_type": "code",
        "colab": {}
      },
      "cell_type": "code",
      "source": [
        "\"\"\"Plot the six first X test images, their predicted label, and the true label\"\"\"\n",
        "num_rows = 2\n",
        "num_cols = 3\n",
        "num_images = num_rows*num_cols\n",
        "plt.figure(figsize=(2*2*num_cols, 2*num_rows))\n",
        "for i in range(num_images):\n",
        "    plt.subplot(num_rows, 2*num_cols, 2*i+1)\n",
        "    plot_prediction_image(i, predictions, y_test, X_test)\n",
        "plt.show()"
      ],
      "execution_count": 0,
      "outputs": []
    },
    {
      "metadata": {
        "id": "NIpa0oOEjegG",
        "colab_type": "text"
      },
      "cell_type": "markdown",
      "source": [
        "### Plot the accuracy and loss for epochs"
      ]
    },
    {
      "metadata": {
        "id": "-O3UiOfTjhVE",
        "colab_type": "code",
        "colab": {}
      },
      "cell_type": "code",
      "source": [
        "plot_graph(history)"
      ],
      "execution_count": 0,
      "outputs": []
    },
    {
      "metadata": {
        "id": "agdKhEtyjlQ2",
        "colab_type": "text"
      },
      "cell_type": "markdown",
      "source": [
        "### Save entire model to a HDF5 file"
      ]
    },
    {
      "metadata": {
        "id": "W0bxop4AfzIM",
        "colab_type": "code",
        "colab": {}
      },
      "cell_type": "code",
      "source": [
        "#model.save('my_model.h5')\n",
        "\n"
      ],
      "execution_count": 0,
      "outputs": []
    }
  ]
}